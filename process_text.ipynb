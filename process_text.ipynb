{
 "cells": [
  {
   "cell_type": "markdown",
   "metadata": {},
   "source": [
    "Хоронили генерал-лейтенанта Запупырина. К дому покойника, где гудела похоронная музыка и раздавались командные слова, со всех сторон бежали толпы, желавшие поглядеть на вынос. В одной из групп, спешивших к выносу, находились чиновники Пробкин и Свистков. Оба были со своими женами.\n",
    "\n",
    "– Нельзя-с! – остановил их помощник частного пристава с добрым, симпатичным лицом, когда они подошли к цепи. – Не-ельзя-с! Пра-ашу немножко назад! Господа, ведь это не от нас зависит! Прошу назад! Впрочем, так и быть, дамы могут пройти… пожалуйте, mesdames, но… вы, господа, ради бога…\n",
    "\n",
    "Жены Пробкина и Свисткова зарделись от неожиданной любезности помощника пристава и юркнули сквозь цепь, а мужья их остались по сю сторону живой стены и занялись созерцанием спин пеших и конных блюстителей."
   ]
  },
  {
   "cell_type": "code",
   "execution_count": 8,
   "metadata": {
    "scrolled": false
   },
   "outputs": [
    {
     "name": "stdout",
     "output_type": "stream",
     "text": [
      "\n",
      "Введите текст со многими описаниями сюда\n",
      "\n"
     ]
    }
   ],
   "source": [
    "# Remove all adjectives from a text\n",
    "import nltk\n",
    "import re\n",
    "\n",
    "open_punct = r\"[\\[„〈«{<($#]\"\n",
    "close_punct = r\"[!%),.\\/:;=>?\\]}~ʹ…〉»“]\"\n",
    "spaces_near_punct = re.compile(\"(?<={}) | (?={})\".format(open_punct, close_punct))\n",
    "\n",
    "\n",
    "def remove_adjectives(paragraph):\n",
    "    # Tokenize the paragraphs\n",
    "    tokens = [token[0] for token in nltk.pos_tag(nltk.word_tokenize(paragraph), lang='rus')\n",
    "             if token[1][:2] != \"A=\"]\n",
    "    text = \" \".join(tokens)\n",
    "    return re.sub(spaces_near_punct, \"\", text)\n",
    "\n",
    "\n",
    "# Введите текст сюда \n",
    "raw_text = \"\"\"\n",
    "Введите сложный текст со многими выразительными описаниями сюда \n",
    "\"\"\"\n",
    "\n",
    "\n",
    "paragraphs = ((remove_adjectives(paragraph) for paragraph in raw_text.split(\"\\n\")))\n",
    "for paragraph in paragraphs:\n",
    "    print(paragraph)"
   ]
  },
  {
   "cell_type": "code",
   "execution_count": null,
   "metadata": {},
   "outputs": [],
   "source": []
  }
 ],
 "metadata": {
  "kernelspec": {
   "display_name": "Python 3",
   "language": "python",
   "name": "python3"
  },
  "language_info": {
   "codemirror_mode": {
    "name": "ipython",
    "version": 3
   },
   "file_extension": ".py",
   "mimetype": "text/x-python",
   "name": "python",
   "nbconvert_exporter": "python",
   "pygments_lexer": "ipython3",
   "version": "3.7.4"
  }
 },
 "nbformat": 4,
 "nbformat_minor": 4
}
